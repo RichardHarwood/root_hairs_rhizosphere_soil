{
  "nbformat": 4,
  "nbformat_minor": 0,
  "metadata": {
    "colab": {
      "provenance": [],
      "authorship_tag": "ABX9TyNjtMBc02FdVuNSgrLihdt8",
      "include_colab_link": true
    },
    "kernelspec": {
      "name": "python3",
      "display_name": "Python 3"
    },
    "language_info": {
      "name": "python"
    }
  },
  "cells": [
    {
      "cell_type": "markdown",
      "metadata": {
        "id": "view-in-github",
        "colab_type": "text"
      },
      "source": [
        "<a href=\"https://colab.research.google.com/github/RichardHarwood/root_hairs_rhizosphere_soil/blob/main/Pore_Network_Paper_R_code.ipynb\" target=\"_parent\"><img src=\"https://colab.research.google.com/assets/colab-badge.svg\" alt=\"Open In Colab\"/></a>"
      ]
    },
    {
      "cell_type": "code",
      "execution_count": null,
      "metadata": {
        "colab": {
          "base_uri": "https://localhost:8080/"
        },
        "id": "wHvOKeMCG2j0",
        "outputId": "da32162d-0202-4abb-a30c-f9720950f11c"
      },
      "outputs": [
        {
          "output_type": "stream",
          "name": "stdout",
          "text": [
            "Drive already mounted at /content/drive; to attempt to forcibly remount, call drive.mount(\"/content/drive\", force_remount=True).\n"
          ]
        }
      ],
      "source": [
        "# from google.colab import drive\n",
        "# drive.mount('/content/drive')"
      ]
    },
    {
      "cell_type": "code",
      "source": [
        "!pip install wget"
      ],
      "metadata": {
        "colab": {
          "base_uri": "https://localhost:8080/"
        },
        "id": "4qeBGmrTvlak",
        "outputId": "51ec134e-364e-4e79-a8de-6ca2b94b5836"
      },
      "execution_count": 1,
      "outputs": [
        {
          "output_type": "stream",
          "name": "stdout",
          "text": [
            "Collecting wget\n",
            "  Downloading wget-3.2.zip (10 kB)\n",
            "  Preparing metadata (setup.py) ... \u001b[?25l\u001b[?25hdone\n",
            "Building wheels for collected packages: wget\n",
            "  Building wheel for wget (setup.py) ... \u001b[?25l\u001b[?25hdone\n",
            "  Created wheel for wget: filename=wget-3.2-py3-none-any.whl size=9656 sha256=fcb134f15616f33db5b3087359720b2a1c5ea13c08e8e4df9122e7b044b2f251\n",
            "  Stored in directory: /root/.cache/pip/wheels/40/b3/0f/a40dbd1c6861731779f62cc4babcb234387e11d697df70ee97\n",
            "Successfully built wget\n",
            "Installing collected packages: wget\n",
            "Successfully installed wget-3.2\n"
          ]
        }
      ]
    },
    {
      "cell_type": "code",
      "source": [
        "#DOWNLOAD DATA TO COLAB SESSION - NOTE THIS IS TEMP, I WOULD ALWAYS SAVE TO GOOGLE DRIVE BUT THAT ADDS ANOTHER STEP\n",
        "import wget\n",
        "wget.download(\"https://zenodo.org/records/13958667/files/\"+\"2-3_enhanced.tif.h5\"+\"?download=1\", out='2-3_enhanced.tif.h5')\n",
        ""
      ],
      "metadata": {
        "colab": {
          "base_uri": "https://localhost:8080/",
          "height": 35
        },
        "id": "5JJgPYWdvnja",
        "outputId": "d4e05c46-e030-4cc4-ee50-83a668263ab9"
      },
      "execution_count": 2,
      "outputs": [
        {
          "output_type": "execute_result",
          "data": {
            "text/plain": [
              "'2-3_enhanced.tif.h5'"
            ],
            "application/vnd.google.colaboratory.intrinsic+json": {
              "type": "string"
            }
          },
          "metadata": {},
          "execution_count": 2
        }
      ]
    },
    {
      "cell_type": "code",
      "source": [
        "%load_ext rpy2.ipython"
      ],
      "metadata": {
        "id": "NBTeI_7_OihX"
      },
      "execution_count": 1,
      "outputs": []
    },
    {
      "cell_type": "code",
      "source": [
        "\n",
        "%%R\n",
        "\n",
        "install.packages(\"ggpubr\")"
      ],
      "metadata": {
        "id": "zJ8C4Z_wqZOT"
      },
      "execution_count": null,
      "outputs": []
    },
    {
      "cell_type": "code",
      "source": [
        "%%R\n",
        "install.packages(\"ggpubr\")\n",
        "library(tidyverse)\n",
        "library(ggpubr)\n",
        "my_theme    <- theme(axis.text.x = element_text( color=\"black\", size=30, angle=0),\n",
        "                     panel.border = element_rect(fill = \"NA\", colour = \"black\", size = 2),\n",
        "                     panel.background = element_blank(),\n",
        "                     plot.title = element_text(size=37),\n",
        "                     axis.text.y = element_text( color=\"black\", size=30),\n",
        "                     axis.title.y = element_text(color=\"black\", size=25),\n",
        "                     legend.position = \"none\")"
      ],
      "metadata": {
        "id": "bbLjUGYHOjRG"
      },
      "execution_count": null,
      "outputs": []
    },
    {
      "cell_type": "code",
      "source": [],
      "metadata": {
        "id": "3bT3tXYwPP6m"
      },
      "execution_count": null,
      "outputs": []
    },
    {
      "cell_type": "code",
      "source": [
        "%%R\n",
        "custom_colors <- c(\"black\", \"red\" )"
      ],
      "metadata": {
        "id": "N3PX3BSPdCFR"
      },
      "execution_count": null,
      "outputs": []
    },
    {
      "cell_type": "code",
      "source": [
        " %%R\n",
        "pore_regions_df_url = ('/content/drive/MyDrive/PORE_PAPER_COLAB/COLLATED_CSV/region_df.csv')\n",
        "pore_regions_df = read.csv(pore_regions_df_url)\n",
        "pore_regions_df$plant<-as.factor(pore_regions_df$plant)\n",
        "pore_regions_df$ring<-as.factor(pore_regions_df$ring)\n",
        "pore_regions_df<-pore_regions_df %>% filter(!grepl('W1_', plant  ))\n",
        "\n",
        " pore_regions_df<-pore_regions_df %>%\n",
        "  mutate()%>%\n",
        "  mutate(plant = case_when(plant==\"W16_\"~\"Wheat\",\n",
        "                           plant==\"BALDY\"~\"Barley (brb)\",\n",
        "                           plant==\"BARLEYWT\"~\"Barley (wt)\"))  %>%\n",
        "  mutate(ring = case_when(ring==\"1mm\"~\"Rhizosphere\",\n",
        "                           ring==\"bulk_soil\"~\"Bulk Soil\"))\n",
        "\n",
        " pore_regions<-pore_regions_df %>%\n",
        "  group_by(IMAGE_ID,plant, ring) %>%\n",
        "  mutate(region_volume_mm = region_volume/1000000000) %>%\n",
        "  summarise(pore_count  = length(region_volume),\n",
        "            pore_volume_total  = sum(region_volume_mm, na.rm=TRUE),\n",
        "            average_region_size_median = median(region_volume_mm, na.rm=TRUE),\n",
        "            average_region_size_mean = mean(region_volume_mm, na.rm=TRUE)) %>%\n",
        "  mutate(pore_number_over_volume=pore_count/pore_volume_total)"
      ],
      "metadata": {
        "colab": {
          "base_uri": "https://localhost:8080/"
        },
        "id": "a49IVn5odLzQ",
        "outputId": "ce0dc7c3-0e2d-4522-d4e4-58d3f3fa8410"
      },
      "execution_count": null,
      "outputs": [
        {
          "output_type": "stream",
          "name": "stdout",
          "text": [
            "`summarise()` has grouped output by 'IMAGE_ID', 'plant'. You can override using\n",
            "the `.groups` argument.\n"
          ]
        }
      ]
    },
    {
      "cell_type": "code",
      "source": [
        "#  %%R\n",
        "# pore_regions_df"
      ],
      "metadata": {
        "id": "eOIVcKeMdndg"
      },
      "execution_count": null,
      "outputs": []
    },
    {
      "cell_type": "code",
      "source": [
        " %%R  -w 1100 -h 600 -u px\n",
        "pore_regions_gg<-pore_regions %>%\n",
        "  ggplot(aes(x=plant, y=average_region_size_mean))+\n",
        "  ggtitle((\"(a)\"))+\n",
        "  geom_boxplot(aes(x=as.factor(plant), y=average_region_size_mean,color=as.factor(ring)),outlier.shape = NA, size=1)+\n",
        "  geom_point(aes(color= ring), alpha = 1,\n",
        "             position = position_jitterdodge(jitter.width = 0.2))+\n",
        "  labs(y=(bquote(Average~Region~Volume~(mm^3))), x = \"\",element_text(size = 6))+\n",
        "  my_theme+\n",
        "  theme(legend.key.size = unit(5,\"line\"))+\n",
        "  scale_color_manual(values = custom_colors)+\n",
        "  theme(legend.text = element_text(size=30))+\n",
        "  theme(legend.position=c(.2,.83))+\n",
        "  theme(legend.title=element_blank());pore_regions_gg"
      ],
      "metadata": {
        "colab": {
          "base_uri": "https://localhost:8080/",
          "height": 617
        },
        "id": "3QfSy8FAdeKx",
        "outputId": "fb0c3cfd-4775-4a97-a34d-c6784dca8b74"
      },
      "execution_count": null,
      "outputs": [
        {
          "output_type": "display_data",
          "data": {
            "image/png": "[encoded data removed]"
          },
          "metadata": {}
        }
      ]
    },
    {
      "cell_type": "code",
      "source": [
        "%%R\n",
        "pore_volume_stat=compare_means(average_region_size_mean ~ plant, data = pore_regions, group.by=\"ring\");pore_volume_stat"
      ],
      "metadata": {
        "colab": {
          "base_uri": "https://localhost:8080/"
        },
        "id": "h7Iprqd7gV2h",
        "outputId": "94a757b6-9fde-4355-9cf9-00757f476e92"
      },
      "execution_count": null,
      "outputs": [
        {
          "output_type": "stream",
          "name": "stdout",
          "text": [
            "Adding missing grouping variables: `IMAGE_ID`\n",
            "# A tibble: 6 × 9\n",
            "  ring        .y.            group1 group2      p p.adj p.format p.signif method\n",
            "  <chr>       <chr>          <chr>  <chr>   <dbl> <dbl> <chr>    <chr>    <chr> \n",
            "1 Bulk Soil   average_regio… Wheat  Barle… 0.111   0.56 0.111    ns       Wilco…\n",
            "2 Bulk Soil   average_regio… Wheat  Barle… 0.247   0.76 0.247    ns       Wilco…\n",
            "3 Bulk Soil   average_regio… Barle… Barle… 0.914   1    0.914    ns       Wilco…\n",
            "4 Rhizosphere average_regio… Wheat  Barle… 0.190   0.76 0.190    ns       Wilco…\n",
            "5 Rhizosphere average_regio… Wheat  Barle… 0.0823  0.49 0.082    ns       Wilco…\n",
            "6 Rhizosphere average_regio… Barle… Barle… 0.762   1    0.762    ns       Wilco…\n"
          ]
        }
      ]
    },
    {
      "cell_type": "code",
      "source": [
        "%%R\n",
        "pore_volume_stat_ring=compare_means(average_region_size_mean ~ ring, data = pore_regions, group.by=\"plant\");pore_volume_stat_ring"
      ],
      "metadata": {
        "colab": {
          "base_uri": "https://localhost:8080/"
        },
        "id": "HkDQdFLegW7A",
        "outputId": "d3b95d08-336d-412e-e110-5c14e1f1ecb6"
      },
      "execution_count": null,
      "outputs": [
        {
          "output_type": "stream",
          "name": "stdout",
          "text": [
            "Adding missing grouping variables: `IMAGE_ID`\n",
            "# A tibble: 3 × 9\n",
            "  plant        .y.            group1 group2     p p.adj p.format p.signif method\n",
            "  <chr>        <chr>          <chr>  <chr>  <dbl> <dbl> <chr>    <chr>    <chr> \n",
            "1 Wheat        average_regio… Bulk … Rhizo… 0.690     1 0.69     ns       Wilco…\n",
            "2 Barley (brb) average_regio… Bulk … Rhizo… 0.886     1 0.89     ns       Wilco…\n",
            "3 Barley (wt)  average_regio… Bulk … Rhizo… 0.699     1 0.70     ns       Wilco…\n"
          ]
        }
      ]
    },
    {
      "cell_type": "code",
      "source": [],
      "metadata": {
        "id": "TXIv3L0BgXow"
      },
      "execution_count": null,
      "outputs": []
    }
  ]
}